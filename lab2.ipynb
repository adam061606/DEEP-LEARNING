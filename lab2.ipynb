{
 "cells": [
  {
   "cell_type": "code",
   "execution_count": 1,
   "metadata": {
    "metadata": {}
   },
   "outputs": [],
   "source": [
    "import tensorflow as tf"
   ]
  },
  {
   "cell_type": "code",
   "execution_count": 2,
   "metadata": {
    "metadata": {}
   },
   "outputs": [
    {
     "data": {
      "text/plain": [
       "[PhysicalDevice(name='/physical_device:CPU:0', device_type='CPU'),\n",
       " PhysicalDevice(name='/physical_device:GPU:0', device_type='GPU')]"
      ]
     },
     "execution_count": 2,
     "metadata": {},
     "output_type": "execute_result"
    }
   ],
   "source": [
    "tf.config.list_physical_devices()"
   ]
  },
  {
   "cell_type": "code",
   "execution_count": 3,
   "metadata": {
    "metadata": {}
   },
   "outputs": [
    {
     "data": {
      "text/plain": [
       "[PhysicalDevice(name='/physical_device:GPU:0', device_type='GPU')]"
      ]
     },
     "execution_count": 3,
     "metadata": {},
     "output_type": "execute_result"
    }
   ],
   "source": [
    "tf.config.list_physical_devices('GPU')"
   ]
  },
  {
   "cell_type": "code",
   "execution_count": 4,
   "metadata": {
    "metadata": {}
   },
   "outputs": [
    {
     "name": "stdout",
     "output_type": "stream",
     "text": [
      "tf.Tensor(10, shape=(), dtype=int32)\n",
      "tf.Tensor(42, shape=(), dtype=int32)\n"
     ]
    }
   ],
   "source": [
    "# TensorFlow Hello World \n",
    "import tensorflow as tf \n",
    "#sess = tf.Session() \n",
    "# This is only needed for TF 1.X \n",
    "# Computational Graph to be compiled and then run using the session \n",
    "a = tf.constant(10) \n",
    "b = tf.constant(32) \n",
    "# print(sess.run(a+b))  # Not session.run not needed in TF2.X\n",
    "# In TF2.X eager execution compiles the computation graph in the background print(a+b) \n",
    "# TF 2.X is more direct. Just write a+b \n",
    "print(a)\n",
    "print(a+b)"
   ]
  },
  {
   "cell_type": "code",
   "execution_count": 5,
   "metadata": {
    "metadata": {}
   },
   "outputs": [],
   "source": [
    "# Keras Hello World \n",
    "from keras.models  import Sequential \n",
    "from keras.layers import Dense \n",
    "# create model \n",
    "model = Sequential() \n",
    "model.add(Dense(12, input_dim=8, activation='relu')) # first layer has 12 neurons and expects 8 input variables\n",
    "model.add(Dense(8, activation='relu')) # second hidden layer has 8 neurons\n",
    "# Compile model \n",
    "model.compile(loss='binary_crossentropy', optimizer='adam', metrics=['accuracy']) "
   ]
  },
  {
   "cell_type": "code",
   "execution_count": 6,
   "metadata": {
    "metadata": {}
   },
   "outputs": [
    {
     "name": "stdout",
     "output_type": "stream",
     "text": [
      "Model: \"sequential\"\n",
      "_________________________________________________________________\n",
      " Layer (type)                Output Shape              Param #   \n",
      "=================================================================\n",
      " dense (Dense)               (None, 12)                108       \n",
      "                                                                 \n",
      " dense_1 (Dense)             (None, 8)                 104       \n",
      "                                                                 \n",
      "=================================================================\n",
      "Total params: 212\n",
      "Trainable params: 212\n",
      "Non-trainable params: 0\n",
      "_________________________________________________________________\n",
      "_________________________________________________________________\n",
      " Layer (type)                Output Shape              Param #   \n",
      "=================================================================\n",
      " dense (Dense)               (None, 12)                108       \n",
      "                                                                 \n",
      " dense_1 (Dense)             (None, 8)                 104       \n",
      "                                                                 \n",
      "=================================================================\n",
      "Total params: 212\n",
      "Trainable params: 212\n",
      "Non-trainable params: 0\n",
      "_________________________________________________________________\n"
     ]
    }
   ],
   "source": [
    "model.summary() # print model summary"
   ]
  },
  {
   "cell_type": "code",
   "execution_count": 17,
   "metadata": {
    "metadata": {}
   },
   "outputs": [
    {
     "data": {
      "image/png": "[encoded data removed]",
      "text/plain": [
       "<Figure size 640x480 with 1 Axes>"
      ]
     },
     "metadata": {},
     "output_type": "display_data"
    },
    {
     "name": "stdout",
     "output_type": "stream",
     "text": [
      "<tf.Variable 'Variable:0' shape=(1,) dtype=float32, numpy=array([0.633775], dtype=float32)>\n",
      "<tf.Variable 'Variable:0' shape=(1,) dtype=float32, numpy=array([0.], dtype=float32)>\n",
      "W: [0.602902], b: [0.03337828]\n",
      "W: [0.21687661], b: [0.23721027]\n",
      "W: [0.12724286], b: [0.2853643]\n",
      "W: [0.10635004], b: [0.29658857]\n",
      "W: [0.10148013], b: [0.29920483]\n",
      "W: [0.10034501], b: [0.29981467]\n",
      "W: [0.1000804], b: [0.29995683]\n",
      "W: [0.10001873], b: [0.29998994]\n",
      "W: [0.10000437], b: [0.29999766]\n",
      "W: [0.10000102], b: [0.29999948]\n"
     ]
    }
   ],
   "source": [
    "import numpy as np   \n",
    "# Create 100 phony x, y data points in NumPy, y = x * 0.1 + 0.3 \n",
    "x_data = np.random.rand(100).astype(np.float32) \n",
    "y_data = x_data * 0.1 + 0.3   \n",
    "\n",
    "import matplotlib.pyplot as plt\n",
    "plt.scatter(x_data, y_data)\n",
    "plt.show()\n",
    "\n",
    "# Try to find values for W and b that compute y_data = W * x_data + b \n",
    "# (We know that W should be 0.1 and b 0.3, but Tensorflow will figure that out for us.) \n",
    "W = tf.Variable(tf.random.uniform(shape=(1,), minval=-1.0, maxval=1.0)) \n",
    "b = tf.Variable(tf.zeros(shape=(1,))) \n",
    "\n",
    "print(W)\n",
    "print(b)\n",
    "\n",
    "# Minimize the mean squared errors. \n",
    "def cost():     \n",
    "    y = W * x_data + b     \n",
    "    loss = tf.reduce_mean(tf.square(y - y_data))     \n",
    "    return loss \n",
    "\n",
    "# SGD is the equivalent for GradientDescentOptimizer\n",
    "optimizer = tf.optimizers.SGD(0.5)  \n",
    "\n",
    "for e in range(200):     \n",
    "    optimizer.minimize(cost, var_list=[W, b])     \n",
    "    if e % 20 == 0:         \n",
    "        print(f'W: {W.numpy()}, b: {b.numpy()}')  \n",
    "        \n",
    "# Learns best fit is W: [0.1], b: [0.3] "
   ]
  },
  {
   "cell_type": "code",
   "execution_count": null,
   "metadata": {
    "metadata": {}
   },
   "outputs": [],
   "source": []
  },
  {
   "cell_type": "code",
   "execution_count": 18,
   "metadata": {
    "metadata": {}
   },
   "outputs": [],
   "source": [
    "from keras.models import Sequential \n",
    "from keras.layers import Dense \n",
    "# create model \n",
    "model = Sequential([ \n",
    "        Dense(12, input_dim=8, activation='relu'), \n",
    "        Dense(8, activation='relu'),             \n",
    "        Dense(1, activation='sigmoid') \n",
    "]) "
   ]
  },
  {
   "cell_type": "code",
   "execution_count": 19,
   "metadata": {
    "metadata": {}
   },
   "outputs": [],
   "source": [
    "# Keras version of Iris classifier \n",
    "from keras.models import Sequential \n",
    "from keras.layers import Dense \n",
    "\n",
    "from sklearn import datasets \n",
    "from sklearn import model_selection \n",
    "from sklearn import preprocessing \n",
    "import pandas as pd \n",
    "import numpy as np \n",
    "\n",
    "# loading and pre-processing of the data \n",
    "# We use the 2 class version of iris data set \n",
    "iris = pd.read_csv(\"IrisTwoClass.csv\") \n",
    "x = np.array(iris.drop(\"Class\",axis=1)) \n",
    "y = np.array(iris[\"Class\"]) "
   ]
  },
  {
   "cell_type": "code",
   "execution_count": 22,
   "metadata": {
    "metadata": {}
   },
   "outputs": [
    {
     "name": "stdout",
     "output_type": "stream",
     "text": [
      "(100, 4)\n",
      "[[6.3 2.9 5.6 1.8]\n",
      " [4.8 3.4 1.6 0.2]\n",
      " [7.2 3.2 6.  1.8]\n",
      " [5.2 3.4 1.4 0.2]\n",
      " [6.7 3.1 5.6 2.4]\n",
      " [4.9 3.6 1.4 0.1]\n",
      " [5.5 3.5 1.3 0.2]\n",
      " [5.3 3.7 1.5 0.2]\n",
      " [6.4 3.1 5.5 1.8]\n",
      " [6.1 2.6 5.6 1.4]\n",
      " [6.  3.  4.8 1.8]\n",
      " [6.  2.2 5.  1.5]\n",
      " [4.4 3.  1.3 0.2]\n",
      " [5.4 3.9 1.3 0.4]\n",
      " [5.8 2.7 5.1 1.9]\n",
      " [4.8 3.  1.4 0.3]\n",
      " [5.1 3.7 1.5 0.4]\n",
      " [5.1 3.8 1.6 0.2]\n",
      " [5.  3.3 1.4 0.2]\n",
      " [7.6 3.  6.6 2.1]\n",
      " [4.6 3.2 1.4 0.2]\n",
      " [4.6 3.4 1.4 0.3]\n",
      " [7.7 2.6 6.9 2.3]\n",
      " [6.4 2.8 5.6 2.2]\n",
      " [4.3 3.  1.1 0.1]\n",
      " [7.1 3.  5.9 2.1]\n",
      " [5.4 3.4 1.5 0.4]\n",
      " [5.7 2.5 5.  2. ]\n",
      " [6.3 2.5 5.  1.9]\n",
      " [6.1 3.  4.9 1.8]\n",
      " [5.7 4.4 1.5 0.4]\n",
      " [7.7 2.8 6.7 2. ]\n",
      " [6.3 3.4 5.6 2.4]\n",
      " [5.8 2.7 5.1 1.9]\n",
      " [4.8 3.4 1.9 0.2]\n",
      " [6.2 3.4 5.4 2.3]\n",
      " [5.1 3.5 1.4 0.2]\n",
      " [7.4 2.8 6.1 1.9]\n",
      " [4.7 3.2 1.6 0.2]\n",
      " [4.9 3.1 1.5 0.2]\n",
      " [7.7 3.  6.1 2.3]\n",
      " [7.9 3.8 6.4 2. ]\n",
      " [6.9 3.2 5.7 2.3]\n",
      " [5.8 4.  1.2 0.2]\n",
      " [5.2 3.5 1.5 0.2]\n",
      " [6.4 2.7 5.3 1.9]\n",
      " [4.4 3.2 1.3 0.2]\n",
      " [5.  3.  1.6 0.2]\n",
      " [4.6 3.6 1.  0.2]\n",
      " [6.3 2.7 4.9 1.8]\n",
      " [6.3 3.3 6.  2.5]\n",
      " [5.1 3.8 1.5 0.3]\n",
      " [5.6 2.8 4.9 2. ]\n",
      " [6.7 3.3 5.7 2.5]\n",
      " [5.  3.5 1.6 0.6]\n",
      " [6.4 2.8 5.6 2.1]\n",
      " [7.2 3.6 6.1 2.5]\n",
      " [5.8 2.8 5.1 2.4]\n",
      " [4.4 2.9 1.4 0.2]\n",
      " [6.9 3.1 5.1 2.3]\n",
      " [6.4 3.2 5.3 2.3]\n",
      " [4.8 3.  1.4 0.1]\n",
      " [5.4 3.7 1.5 0.2]\n",
      " [4.7 3.2 1.3 0.2]\n",
      " [6.3 2.8 5.1 1.5]\n",
      " [5.1 3.3 1.7 0.5]\n",
      " [5.  3.4 1.5 0.2]\n",
      " [5.  3.6 1.4 0.2]\n",
      " [5.1 3.8 1.9 0.4]\n",
      " [4.8 3.1 1.6 0.2]\n",
      " [7.3 2.9 6.3 1.8]\n",
      " [6.7 3.3 5.7 2.1]\n",
      " [5.9 3.  5.1 1.8]\n",
      " [6.5 3.2 5.1 2. ]\n",
      " [7.2 3.  5.8 1.6]\n",
      " [6.9 3.1 5.4 2.1]\n",
      " [5.4 3.4 1.7 0.2]\n",
      " [7.7 3.8 6.7 2.2]\n",
      " [5.7 3.8 1.7 0.3]\n",
      " [5.  3.5 1.3 0.3]\n",
      " [4.9 2.5 4.5 1.7]\n",
      " [6.5 3.  5.5 1.8]\n",
      " [5.1 3.5 1.4 0.3]\n",
      " [4.9 3.  1.4 0.2]\n",
      " [6.7 2.5 5.8 1.8]\n",
      " [4.5 2.3 1.3 0.3]\n",
      " [5.  3.2 1.2 0.2]\n",
      " [6.8 3.2 5.9 2.3]\n",
      " [6.8 3.  5.5 2.1]\n",
      " [5.4 3.9 1.7 0.4]\n",
      " [4.9 3.1 1.5 0.1]\n",
      " [4.6 3.1 1.5 0.2]\n",
      " [5.1 3.4 1.5 0.2]\n",
      " [6.2 2.8 4.8 1.8]\n",
      " [5.  3.4 1.6 0.4]\n",
      " [6.5 3.  5.2 2. ]\n",
      " [5.2 4.1 1.5 0.1]\n",
      " [6.7 3.  5.2 2.3]\n",
      " [5.5 4.2 1.4 0.2]\n",
      " [6.5 3.  5.8 2.2]]\n"
     ]
    }
   ],
   "source": [
    "print(x.shape)\n",
    "print(x)"
   ]
  },
  {
   "cell_type": "code",
   "execution_count": 23,
   "metadata": {
    "metadata": {}
   },
   "outputs": [
    {
     "name": "stdout",
     "output_type": "stream",
     "text": [
      "(100,)\n",
      "[1 0 1 0 1 0 0 0 1 1 1 1 0 0 1 0 0 0 0 1 0 0 1 1 0 1 0 1 1 1 0 1 1 1 0 1 0\n",
      " 1 0 0 1 1 1 0 0 1 0 0 0 1 1 0 1 1 0 1 1 1 0 1 1 0 0 0 1 0 0 0 0 0 1 1 1 1\n",
      " 1 1 0 1 0 0 1 1 0 0 1 0 0 1 1 0 0 0 0 1 0 1 0 1 0 1]\n"
     ]
    }
   ],
   "source": [
    "print(y.shape)\n",
    "print(y)"
   ]
  },
  {
   "cell_type": "code",
   "execution_count": 20,
   "metadata": {
    "metadata": {}
   },
   "outputs": [
    {
     "name": "stdout",
     "output_type": "stream",
     "text": [
      "(80, 4)\n",
      "(20, 4)\n",
      "(80,)\n",
      "(20,)\n"
     ]
    }
   ],
   "source": [
    "# Split dataset into train / test \n",
    "x_train, x_test, y_train, y_test = model_selection.train_test_split(x, y, test_size=0.2, random_state=42) \n",
    "print(x_train.shape)\n",
    "print(x_test.shape)\n",
    "print(y_train.shape)\n",
    "print(y_test.shape)\n",
    "# Scale data (training set) to 0 mean and unit standard deviation. \n",
    "scaler = preprocessing.StandardScaler() \n",
    "x_train = scaler.fit_transform(x_train) \n",
    "x_test = scaler.fit_transform(x_test) "
   ]
  },
  {
   "cell_type": "code",
   "execution_count": 21,
   "metadata": {
    "metadata": {}
   },
   "outputs": [
    {
     "name": "stdout",
     "output_type": "stream",
     "text": [
      "Epoch 1/10\n",
      "8/8 [==============================] - 0s 4ms/step - loss: 0.6345 - accuracy: 0.9000\n",
      "Epoch 2/10\n",
      "8/8 [==============================] - 0s 4ms/step - loss: 0.5864 - accuracy: 0.9750\n",
      "Epoch 3/10\n",
      "8/8 [==============================] - 0s 4ms/step - loss: 0.5484 - accuracy: 0.9875\n",
      "Epoch 4/10\n",
      "8/8 [==============================] - 0s 4ms/step - loss: 0.5099 - accuracy: 1.0000\n",
      "Epoch 5/10\n",
      "8/8 [==============================] - 0s 4ms/step - loss: 0.4687 - accuracy: 1.0000\n",
      "Epoch 6/10\n",
      "8/8 [==============================] - 0s 4ms/step - loss: 0.4222 - accuracy: 1.0000\n",
      "Epoch 7/10\n",
      "8/8 [==============================] - 0s 4ms/step - loss: 0.3714 - accuracy: 1.0000\n",
      "Epoch 8/10\n",
      "8/8 [==============================] - 0s 4ms/step - loss: 0.3170 - accuracy: 1.0000\n",
      "Epoch 9/10\n",
      "8/8 [==============================] - 0s 3ms/step - loss: 0.2624 - accuracy: 1.0000\n",
      "Epoch 10/10\n",
      "8/8 [==============================] - 0s 3ms/step - loss: 0.2115 - accuracy: 1.0000\n",
      "1/1 [==============================] - 0s 110ms/step - loss: 0.2629 - accuracy: 0.9500\n",
      "\n",
      "accuracy: 95.00%\n",
      "1/1 [==============================] - 0s 55ms/step\n",
      "[0, 1, 1, 1, 0, 0, 1, 0, 1, 1, 0, 0, 1, 1, 0, 1, 0, 1, 0, 1]\n"
     ]
    }
   ],
   "source": [
    "# create model \n",
    "model = Sequential() \n",
    "model.add(Dense(10, input_dim=4, activation='relu')) \n",
    "model.add(Dense(20, activation='relu')) \n",
    "model.add(Dense(10, activation='relu')) \n",
    "model.add(Dense(1, activation='sigmoid')) \n",
    "\n",
    "# Compile model \n",
    "model.compile(loss='binary_crossentropy', optimizer='adam', metrics=['accuracy']) \n",
    "# training the model \n",
    "model.fit(x_train, y_train, epochs=10, batch_size=10) \n",
    "# eval model \n",
    "scores = model.evaluate(x_test, y_test) \n",
    "print(\"\\n%s: %.2f%%\" % (model.metrics_names[1], scores[1]*100))\n",
    "# calculate predictions \n",
    "predictions = model.predict(x_test) \n",
    "# round predictions \n",
    "rounded = [round(x[0]) for x in predictions] \n",
    "print(rounded) "
   ]
  },
  {
   "cell_type": "code",
   "execution_count": 24,
   "metadata": {
    "metadata": {}
   },
   "outputs": [
    {
     "name": "stdout",
     "output_type": "stream",
     "text": [
      "Epoch 1/10\n",
      "8/8 [==============================] - 1s 5ms/step - loss: 0.4774 - accuracy: 0.9625\n",
      "Epoch 2/10\n",
      "8/8 [==============================] - 0s 4ms/step - loss: 0.2927 - accuracy: 1.0000\n",
      "Epoch 3/10\n",
      "8/8 [==============================] - 0s 5ms/step - loss: 0.1909 - accuracy: 1.0000\n",
      "Epoch 4/10\n",
      "8/8 [==============================] - 0s 5ms/step - loss: 0.1248 - accuracy: 1.0000\n",
      "Epoch 5/10\n",
      "8/8 [==============================] - 0s 4ms/step - loss: 0.0799 - accuracy: 1.0000\n",
      "Epoch 6/10\n",
      "8/8 [==============================] - 0s 5ms/step - loss: 0.0500 - accuracy: 1.0000\n",
      "Epoch 7/10\n",
      "8/8 [==============================] - 0s 5ms/step - loss: 0.0319 - accuracy: 1.0000\n",
      "Epoch 8/10\n",
      "8/8 [==============================] - 0s 5ms/step - loss: 0.0203 - accuracy: 1.0000\n",
      "Epoch 9/10\n",
      "8/8 [==============================] - 0s 5ms/step - loss: 0.0129 - accuracy: 1.0000\n",
      "Epoch 10/10\n",
      "8/8 [==============================] - 0s 4ms/step - loss: 0.0083 - accuracy: 1.0000\n"
     ]
    },
    {
     "data": {
      "text/plain": [
       "<keras.callbacks.History at 0x2b3683805b0>"
      ]
     },
     "execution_count": 24,
     "metadata": {},
     "output_type": "execute_result"
    }
   ],
   "source": [
    "from tensorflow.keras.layers import Input, Dense \n",
    "from tensorflow.keras.models import Model \n",
    "\n",
    "# This returns a tensor \n",
    "inputs = Input(shape=(4,)) \n",
    "\n",
    "# a layer instance is callable on a tensor, and returns a tensor \n",
    "x = Dense(64, activation='relu')(inputs) \n",
    "x = Dense(64, activation='relu')(x) \n",
    "predictions = Dense(1, activation='sigmoid')(x) \n",
    "\n",
    "# This creates a model that includes \n",
    "# the Input layer and three Dense layers \n",
    "model = Model(inputs=inputs, outputs=predictions) \n",
    "model.compile(optimizer='rmsprop', loss='binary_crossentropy', metrics=['accuracy']) \n",
    "model.fit(x_train, y_train,epochs=10, batch_size=10)  # starts training "
   ]
  }
 ],
 "metadata": {
  "kernelspec": {
   "display_name": "gpu_env",
   "language": "python",
   "name": "python3"
  },
  "language_info": {
   "codemirror_mode": {
    "name": "ipython",
    "version": 3
   },
   "file_extension": ".py",
   "mimetype": "text/x-python",
   "name": "python",
   "nbconvert_exporter": "python",
   "pygments_lexer": "ipython3",
   "version": "3.8.19"
  }
 },
 "nbformat": 4,
 "nbformat_minor": 2
}
