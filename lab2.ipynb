{
 "cells": [
  {
   "cell_type": "code",
   "execution_count": 29,
   "metadata": {
    "metadata": {}
   },
   "outputs": [],
   "source": [
    "import tensorflow as tf"
   ]
  },
  {
   "cell_type": "code",
   "execution_count": 30,
   "metadata": {
    "metadata": {}
   },
   "outputs": [
    {
     "data": {
      "text/plain": [
       "[PhysicalDevice(name='/physical_device:CPU:0', device_type='CPU'),\n",
       " PhysicalDevice(name='/physical_device:GPU:0', device_type='GPU')]"
      ]
     },
     "execution_count": 30,
     "metadata": {},
     "output_type": "execute_result"
    }
   ],
   "source": [
    "tf.config.list_physical_devices()"
   ]
  },
  {
   "cell_type": "code",
   "execution_count": 31,
   "metadata": {
    "metadata": {}
   },
   "outputs": [
    {
     "data": {
      "text/plain": [
       "[PhysicalDevice(name='/physical_device:GPU:0', device_type='GPU')]"
      ]
     },
     "execution_count": 31,
     "metadata": {},
     "output_type": "execute_result"
    }
   ],
   "source": [
    "tf.config.list_physical_devices('GPU')"
   ]
  },
  {
   "cell_type": "code",
   "execution_count": 32,
   "metadata": {
    "metadata": {}
   },
   "outputs": [
    {
     "name": "stdout",
     "output_type": "stream",
     "text": [
      "tf.Tensor(10, shape=(), dtype=int32)\n",
      "tf.Tensor(42, shape=(), dtype=int32)\n"
     ]
    }
   ],
   "source": [
    "# TensorFlow Hello World \n",
    "import tensorflow as tf \n",
    "#sess = tf.Session() \n",
    "# This is only needed for TF 1.X \n",
    "# Computational Graph to be compiled and then run using the session \n",
    "a = tf.constant(10) \n",
    "b = tf.constant(32) \n",
    "# print(sess.run(a+b))  # Not session.run not needed in TF2.X\n",
    "# In TF2.X eager execution compiles the computation graph in the background print(a+b) \n",
    "# TF 2.X is more direct. Just write a+b \n",
    "print(a)\n",
    "print(a+b)"
   ]
  },
  {
   "cell_type": "code",
   "execution_count": 33,
   "metadata": {
    "metadata": {}
   },
   "outputs": [],
   "source": [
    "# Keras Hello World \n",
    "from keras.models  import Sequential \n",
    "from keras.layers import Dense \n",
    "# create model \n",
    "model = Sequential() \n",
    "model.add(Dense(12, input_dim=8, activation='relu')) # first layer has 12 neurons and expects 8 input variables\n",
    "model.add(Dense(8, activation='relu')) # second hidden layer has 8 neurons\n",
    "# Compile model \n",
    "model.compile(loss='binary_crossentropy', optimizer='adam', metrics=['accuracy']) "
   ]
  },
  {
   "cell_type": "code",
   "execution_count": 34,
   "metadata": {
    "metadata": {}
   },
   "outputs": [
    {
     "name": "stdout",
     "output_type": "stream",
     "text": [
      "Model: \"sequential_10\"\n",
      "_________________________________________________________________\n",
      " Layer (type)                Output Shape              Param #   \n",
      "=================================================================\n",
      " dense_40 (Dense)            (None, 12)                108       \n",
      "                                                                 \n",
      " dense_41 (Dense)            (None, 8)                 104       \n",
      "                                                                 \n",
      "=================================================================\n",
      "Total params: 212\n",
      "Trainable params: 212\n",
      "Non-trainable params: 0\n",
      "_________________________________________________________________\n",
      "_________________________________________________________________\n",
      " Layer (type)                Output Shape              Param #   \n",
      "=================================================================\n",
      " dense_40 (Dense)            (None, 12)                108       \n",
      "                                                                 \n",
      " dense_41 (Dense)            (None, 8)                 104       \n",
      "                                                                 \n",
      "=================================================================\n",
      "Total params: 212\n",
      "Trainable params: 212\n",
      "Non-trainable params: 0\n",
      "_________________________________________________________________\n"
     ]
    }
   ],
   "source": [
    "model.summary() # print model summary"
   ]
  },
  {
   "cell_type": "code",
   "execution_count": 35,
   "metadata": {
    "metadata": {}
   },
   "outputs": [
    {
     "data": {
      "image/png": "[encoded data removed]",
      "text/plain": [
       "<Figure size 640x480 with 1 Axes>"
      ]
     },
     "metadata": {},
     "output_type": "display_data"
    },
    {
     "name": "stdout",
     "output_type": "stream",
     "text": [
      "<tf.Variable 'Variable:0' shape=(1,) dtype=float32, numpy=array([-0.11291122], dtype=float32)>\n",
      "<tf.Variable 'Variable:0' shape=(1,) dtype=float32, numpy=array([0.], dtype=float32)>\n",
      "W: [0.09736326], b: [0.40256754]\n",
      "W: [0.08771487], b: [0.30630633]\n",
      "W: [0.09655088], b: [0.30177054]\n",
      "W: [0.09903163], b: [0.3004971]\n",
      "W: [0.09972813], b: [0.30013958]\n",
      "W: [0.09992367], b: [0.3000392]\n",
      "W: [0.09997856], b: [0.300011]\n",
      "W: [0.099994], b: [0.3000031]\n",
      "W: [0.09999831], b: [0.30000088]\n",
      "W: [0.09999951], b: [0.30000025]\n"
     ]
    }
   ],
   "source": [
    "import numpy as np   \n",
    "# Create 100 phony x, y data points in NumPy, y = x * 0.1 + 0.3 \n",
    "x_data = np.random.rand(100).astype(np.float32) \n",
    "y_data = x_data * 0.1 + 0.3   \n",
    "\n",
    "import matplotlib.pyplot as plt\n",
    "plt.scatter(x_data, y_data)\n",
    "plt.show()\n",
    "\n",
    "# Try to find values for W and b that compute y_data = W * x_data + b \n",
    "# (We know that W should be 0.1 and b 0.3, but Tensorflow will figure that out for us.) \n",
    "W = tf.Variable(tf.random.uniform(shape=(1,), minval=-1.0, maxval=1.0)) \n",
    "b = tf.Variable(tf.zeros(shape=(1,))) \n",
    "\n",
    "print(W)\n",
    "print(b)\n",
    "\n",
    "# Minimize the mean squared errors. \n",
    "def cost():     \n",
    "    y = W * x_data + b     \n",
    "    loss = tf.reduce_mean(tf.square(y - y_data))     \n",
    "    return loss \n",
    "\n",
    "# SGD is the equivalent for GradientDescentOptimizer\n",
    "optimizer = tf.optimizers.SGD(0.5)  \n",
    "\n",
    "for e in range(200):     \n",
    "    optimizer.minimize(cost, var_list=[W, b])     \n",
    "    if e % 20 == 0:         \n",
    "        print(f'W: {W.numpy()}, b: {b.numpy()}')  \n",
    "        \n",
    "# Learns best fit is W: [0.1], b: [0.3] "
   ]
  },
  {
   "cell_type": "code",
   "execution_count": 36,
   "metadata": {
    "metadata": {}
   },
   "outputs": [],
   "source": [
    "from keras.models import Sequential \n",
    "from keras.layers import Dense \n",
    "# create model \n",
    "model = Sequential([ \n",
    "        Dense(12, input_dim=8, activation='relu'), \n",
    "        Dense(8, activation='relu'),             \n",
    "        Dense(1, activation='sigmoid') \n",
    "]) "
   ]
  },
  {
   "cell_type": "markdown",
   "metadata": {},
   "source": [
    "## iris two class dataset "
   ]
  },
  {
   "cell_type": "code",
   "execution_count": 37,
   "metadata": {
    "metadata": {}
   },
   "outputs": [],
   "source": [
    "# Keras version of Iris classifier \n",
    "from keras.models import Sequential \n",
    "from keras.layers import Dense \n",
    "\n",
    "from sklearn import datasets \n",
    "from sklearn import model_selection \n",
    "from sklearn import preprocessing \n",
    "import pandas as pd \n",
    "import numpy as np \n",
    "\n",
    "# loading and pre-processing of the data \n",
    "# We use the 2 class version of iris data set \n",
    "iris = pd.read_csv(\"IrisTwoClass.csv\") \n",
    "x = np.array(iris.drop(\"Class\",axis=1)) \n",
    "y = np.array(iris[\"Class\"]) "
   ]
  },
  {
   "cell_type": "code",
   "execution_count": 38,
   "metadata": {
    "metadata": {}
   },
   "outputs": [
    {
     "name": "stdout",
     "output_type": "stream",
     "text": [
      "(100, 4)\n",
      "[[6.3 2.9 5.6 1.8]\n",
      " [4.8 3.4 1.6 0.2]\n",
      " [7.2 3.2 6.  1.8]\n",
      " [5.2 3.4 1.4 0.2]\n",
      " [6.7 3.1 5.6 2.4]\n",
      " [4.9 3.6 1.4 0.1]\n",
      " [5.5 3.5 1.3 0.2]\n",
      " [5.3 3.7 1.5 0.2]\n",
      " [6.4 3.1 5.5 1.8]\n",
      " [6.1 2.6 5.6 1.4]\n",
      " [6.  3.  4.8 1.8]\n",
      " [6.  2.2 5.  1.5]\n",
      " [4.4 3.  1.3 0.2]\n",
      " [5.4 3.9 1.3 0.4]\n",
      " [5.8 2.7 5.1 1.9]\n",
      " [4.8 3.  1.4 0.3]\n",
      " [5.1 3.7 1.5 0.4]\n",
      " [5.1 3.8 1.6 0.2]\n",
      " [5.  3.3 1.4 0.2]\n",
      " [7.6 3.  6.6 2.1]\n",
      " [4.6 3.2 1.4 0.2]\n",
      " [4.6 3.4 1.4 0.3]\n",
      " [7.7 2.6 6.9 2.3]\n",
      " [6.4 2.8 5.6 2.2]\n",
      " [4.3 3.  1.1 0.1]\n",
      " [7.1 3.  5.9 2.1]\n",
      " [5.4 3.4 1.5 0.4]\n",
      " [5.7 2.5 5.  2. ]\n",
      " [6.3 2.5 5.  1.9]\n",
      " [6.1 3.  4.9 1.8]\n",
      " [5.7 4.4 1.5 0.4]\n",
      " [7.7 2.8 6.7 2. ]\n",
      " [6.3 3.4 5.6 2.4]\n",
      " [5.8 2.7 5.1 1.9]\n",
      " [4.8 3.4 1.9 0.2]\n",
      " [6.2 3.4 5.4 2.3]\n",
      " [5.1 3.5 1.4 0.2]\n",
      " [7.4 2.8 6.1 1.9]\n",
      " [4.7 3.2 1.6 0.2]\n",
      " [4.9 3.1 1.5 0.2]\n",
      " [7.7 3.  6.1 2.3]\n",
      " [7.9 3.8 6.4 2. ]\n",
      " [6.9 3.2 5.7 2.3]\n",
      " [5.8 4.  1.2 0.2]\n",
      " [5.2 3.5 1.5 0.2]\n",
      " [6.4 2.7 5.3 1.9]\n",
      " [4.4 3.2 1.3 0.2]\n",
      " [5.  3.  1.6 0.2]\n",
      " [4.6 3.6 1.  0.2]\n",
      " [6.3 2.7 4.9 1.8]\n",
      " [6.3 3.3 6.  2.5]\n",
      " [5.1 3.8 1.5 0.3]\n",
      " [5.6 2.8 4.9 2. ]\n",
      " [6.7 3.3 5.7 2.5]\n",
      " [5.  3.5 1.6 0.6]\n",
      " [6.4 2.8 5.6 2.1]\n",
      " [7.2 3.6 6.1 2.5]\n",
      " [5.8 2.8 5.1 2.4]\n",
      " [4.4 2.9 1.4 0.2]\n",
      " [6.9 3.1 5.1 2.3]\n",
      " [6.4 3.2 5.3 2.3]\n",
      " [4.8 3.  1.4 0.1]\n",
      " [5.4 3.7 1.5 0.2]\n",
      " [4.7 3.2 1.3 0.2]\n",
      " [6.3 2.8 5.1 1.5]\n",
      " [5.1 3.3 1.7 0.5]\n",
      " [5.  3.4 1.5 0.2]\n",
      " [5.  3.6 1.4 0.2]\n",
      " [5.1 3.8 1.9 0.4]\n",
      " [4.8 3.1 1.6 0.2]\n",
      " [7.3 2.9 6.3 1.8]\n",
      " [6.7 3.3 5.7 2.1]\n",
      " [5.9 3.  5.1 1.8]\n",
      " [6.5 3.2 5.1 2. ]\n",
      " [7.2 3.  5.8 1.6]\n",
      " [6.9 3.1 5.4 2.1]\n",
      " [5.4 3.4 1.7 0.2]\n",
      " [7.7 3.8 6.7 2.2]\n",
      " [5.7 3.8 1.7 0.3]\n",
      " [5.  3.5 1.3 0.3]\n",
      " [4.9 2.5 4.5 1.7]\n",
      " [6.5 3.  5.5 1.8]\n",
      " [5.1 3.5 1.4 0.3]\n",
      " [4.9 3.  1.4 0.2]\n",
      " [6.7 2.5 5.8 1.8]\n",
      " [4.5 2.3 1.3 0.3]\n",
      " [5.  3.2 1.2 0.2]\n",
      " [6.8 3.2 5.9 2.3]\n",
      " [6.8 3.  5.5 2.1]\n",
      " [5.4 3.9 1.7 0.4]\n",
      " [4.9 3.1 1.5 0.1]\n",
      " [4.6 3.1 1.5 0.2]\n",
      " [5.1 3.4 1.5 0.2]\n",
      " [6.2 2.8 4.8 1.8]\n",
      " [5.  3.4 1.6 0.4]\n",
      " [6.5 3.  5.2 2. ]\n",
      " [5.2 4.1 1.5 0.1]\n",
      " [6.7 3.  5.2 2.3]\n",
      " [5.5 4.2 1.4 0.2]\n",
      " [6.5 3.  5.8 2.2]]\n"
     ]
    }
   ],
   "source": [
    "print(x.shape)\n",
    "print(x)"
   ]
  },
  {
   "cell_type": "code",
   "execution_count": 39,
   "metadata": {
    "metadata": {}
   },
   "outputs": [
    {
     "name": "stdout",
     "output_type": "stream",
     "text": [
      "(100,)\n",
      "[1 0 1 0 1 0 0 0 1 1 1 1 0 0 1 0 0 0 0 1 0 0 1 1 0 1 0 1 1 1 0 1 1 1 0 1 0\n",
      " 1 0 0 1 1 1 0 0 1 0 0 0 1 1 0 1 1 0 1 1 1 0 1 1 0 0 0 1 0 0 0 0 0 1 1 1 1\n",
      " 1 1 0 1 0 0 1 1 0 0 1 0 0 1 1 0 0 0 0 1 0 1 0 1 0 1]\n"
     ]
    }
   ],
   "source": [
    "print(y.shape)\n",
    "print(y)"
   ]
  },
  {
   "cell_type": "code",
   "execution_count": 40,
   "metadata": {
    "metadata": {}
   },
   "outputs": [
    {
     "name": "stdout",
     "output_type": "stream",
     "text": [
      "(80, 4)\n",
      "(20, 4)\n",
      "(80,)\n",
      "(20,)\n"
     ]
    }
   ],
   "source": [
    "# Split dataset into train / test \n",
    "x_train, x_test, y_train, y_test = model_selection.train_test_split(x, y, test_size=0.2, random_state=42) \n",
    "print(x_train.shape)\n",
    "print(x_test.shape)\n",
    "print(y_train.shape)\n",
    "print(y_test.shape)\n",
    "# Scale data (training set) to 0 mean and unit standard deviation. \n",
    "scaler = preprocessing.StandardScaler() \n",
    "x_train = scaler.fit_transform(x_train) \n",
    "x_test = scaler.fit_transform(x_test) "
   ]
  },
  {
   "cell_type": "code",
   "execution_count": 41,
   "metadata": {
    "metadata": {}
   },
   "outputs": [
    {
     "name": "stdout",
     "output_type": "stream",
     "text": [
      "[[ 0.72103295 -1.03004748  1.08200425  1.10481261]\n",
      " [ 1.16135842 -0.54245104  1.03321037  1.10481261]\n",
      " [-0.37978071  0.43274184 -0.91854476 -0.76402464]\n",
      " [ 1.27143978 -0.0548546   1.13079813  1.32467581]\n",
      " [-1.04026891 -0.29865282 -0.86975088 -0.98388784]\n",
      " [-1.04026891 -0.54245104 -0.96733864 -0.87395624]\n",
      " [ 2.15209071 -0.54245104  1.32597364  1.32467581]\n",
      " [-0.59994345  2.13932938 -0.91854476 -1.09381945]\n",
      " [ 0.39078885 -1.51764392  1.08200425  0.33529139]\n",
      " [ 0.17062612 -0.54245104  0.83803486  0.7750178 ]\n",
      " [ 0.28070748 -2.4928368   0.78924098  0.44522299]\n",
      " [-0.82010618 -0.54245104 -0.86975088 -0.98388784]\n",
      " [-1.37051301 -2.24903858 -1.01613251 -0.87395624]\n",
      " [ 0.61095158 -1.76144214  0.78924098  0.8849494 ]\n",
      " [ 0.50087022 -1.03004748  0.69165322  0.7750178 ]\n",
      " [-0.93018755  0.92033828 -0.96733864 -1.09381945]\n",
      " [-0.82010618  0.43274184 -0.91854476 -0.98388784]\n",
      " [-0.71002481  0.18894362 -0.820957   -0.65409304]\n",
      " [ 0.50087022  0.43274184  0.98441649  1.32467581]\n",
      " [-0.71002481  1.1641365  -0.91854476 -0.76402464]\n",
      " [ 0.61095158 -1.2738457   0.7404471   0.7750178 ]\n",
      " [-1.04026891  0.43274184 -0.72336924 -0.98388784]\n",
      " [-0.48986208  1.1641365  -0.91854476 -0.98388784]\n",
      " [ 0.83111432 -0.54245104  0.88682874  0.994881  ]\n",
      " [-0.04953661 -1.76144214  0.78924098  0.994881  ]\n",
      " [ 2.04200935 -0.54245104  1.56994303  1.10481261]\n",
      " [ 0.83111432 -0.54245104  1.03321037  0.7750178 ]\n",
      " [ 1.49160252 -0.54245104  1.22838588  1.10481261]\n",
      " [-0.37978071  1.1641365  -0.91854476 -0.98388784]\n",
      " [-0.37978071  1.65173294 -1.01613251 -0.76402464]\n",
      " [-1.59067575 -0.54245104 -1.11372027 -1.09381945]\n",
      " [-0.59994345  0.43274184 -0.96733864 -0.98388784]\n",
      " [-0.71002481  1.40793472 -0.86975088 -0.98388784]\n",
      " [-1.15035028 -0.0548546  -0.86975088 -0.98388784]\n",
      " [ 0.72103295 -0.29865282  1.03321037  0.7750178 ]\n",
      " [-0.04953661  1.40793472 -0.820957   -0.87395624]\n",
      " [-0.26969935  0.67654006 -1.01613251 -0.98388784]\n",
      " [ 0.61095158 -1.03004748  0.83803486  0.44522299]\n",
      " [-0.71002481  0.67654006 -0.96733864 -0.98388784]\n",
      " [-0.37978071  1.65173294 -0.820957   -0.76402464]\n",
      " [ 1.60168388  0.92033828  1.32597364  1.54453902]\n",
      " [ 0.83111432 -0.54245104  1.17959201  1.21474421]\n",
      " [-0.82010618  0.67654006 -0.86975088 -0.54416143]\n",
      " [ 0.06054475  1.89553116 -1.06492639 -0.98388784]\n",
      " [ 0.61095158  0.18894362  1.27717976  1.54453902]\n",
      " [-0.82010618  0.92033828 -0.96733864 -0.98388784]\n",
      " [-1.48059438 -0.0548546  -1.01613251 -0.98388784]\n",
      " [-0.71002481  1.40793472 -0.72336924 -0.76402464]\n",
      " [-1.04026891 -0.54245104 -0.96733864 -1.09381945]\n",
      " [ 1.05127705 -0.54245104  0.88682874  1.32467581]\n",
      " [-0.82010618  0.67654006 -1.01613251 -0.87395624]\n",
      " [ 2.37225345  1.40793472  1.47235527  0.994881  ]\n",
      " [-1.48059438 -0.78624926 -0.96733864 -0.98388784]\n",
      " [-1.26043165  0.92033828 -1.16251415 -0.98388784]\n",
      " [-0.26969935  2.3831276  -0.96733864 -0.98388784]\n",
      " [ 0.06054475 -1.03004748  0.83803486  1.43460741]\n",
      " [ 1.27143978 -0.29865282  0.98441649  1.10481261]\n",
      " [ 0.61095158  0.43274184  1.08200425  1.43460741]\n",
      " [-0.82010618  0.43274184 -0.86975088 -0.76402464]\n",
      " [ 1.27143978 -0.29865282  0.83803486  1.32467581]\n",
      " [-1.15035028 -0.0548546  -1.01613251 -0.98388784]\n",
      " [ 1.05127705 -1.76144214  1.17959201  0.7750178 ]\n",
      " [ 1.82184661 -1.03004748  1.32597364  0.8849494 ]\n",
      " [ 0.39078885 -0.54245104  0.7404471   0.7750178 ]\n",
      " [-1.04026891  0.43274184 -0.86975088 -0.98388784]\n",
      " [-0.15961798 -1.03004748  0.7404471   0.994881  ]\n",
      " [-1.26043165  0.43274184 -0.96733864 -0.87395624]\n",
      " [ 1.60168388 -0.0548546   1.27717976  0.7750178 ]\n",
      " [ 0.72103295 -1.03004748  1.08200425  1.21474421]\n",
      " [ 1.16135842 -0.0548546   1.22838588  1.32467581]\n",
      " [-1.26043165 -0.29865282 -0.91854476 -0.98388784]\n",
      " [ 1.60168388 -0.54245104  1.17959201  0.55515459]\n",
      " [-0.82010618 -0.0548546  -1.06492639 -0.98388784]\n",
      " [-0.71002481  0.67654006 -0.96733864 -0.87395624]\n",
      " [-1.26043165 -0.0548546  -0.96733864 -0.98388784]\n",
      " [ 0.72103295 -0.0548546   0.93562261  1.32467581]\n",
      " [ 1.05127705  0.18894362  1.13079813  1.10481261]\n",
      " [ 0.06054475 -1.2738457   0.83803486  0.8849494 ]\n",
      " [-0.71002481  0.43274184 -0.91854476 -0.98388784]\n",
      " [-0.71002481  1.40793472 -0.91854476 -0.87395624]]\n"
     ]
    }
   ],
   "source": [
    "print(x_train)"
   ]
  },
  {
   "cell_type": "markdown",
   "metadata": {},
   "source": [
    "model using keras\n"
   ]
  },
  {
   "cell_type": "code",
   "execution_count": 45,
   "metadata": {
    "metadata": {}
   },
   "outputs": [
    {
     "name": "stderr",
     "output_type": "stream",
     "text": [
      "C:\\Users\\p2300575\\AppData\\Local\\Temp\\ipykernel_24220\\2327795621.py:24: DeprecationWarning: KerasClassifier is deprecated, use Sci-Keras (https://github.com/adriangb/scikeras) instead. See https://www.adriangb.com/scikeras/stable/migration.html for help migrating.\n",
      "  model = KerasClassifier(build_fn = create_model)\n"
     ]
    },
    {
     "name": "stdout",
     "output_type": "stream",
     "text": [
      "1/1 [==============================] - 0s 392ms/step - loss: 0.7757 - accuracy: 0.3846\n",
      "1/1 [==============================] - 0s 392ms/step - loss: 0.7757 - accuracy: 0.3846\n",
      "1/1 [==============================] - 0s 101ms/step - loss: 0.8254 - accuracy: 0.4286\n",
      "1/1 [==============================] - 0s 356ms/step - loss: 0.6838 - accuracy: 0.5385\n",
      "1/1 [==============================] - 0s 421ms/step - loss: 0.7306 - accuracy: 0.4286\n",
      "1/1 [==============================] - 0s 358ms/step - loss: 0.9719 - accuracy: 0.3571\n",
      "1/1 [==============================] - 0s 120ms/step - loss: 1.1069 - accuracy: 0.5000\n",
      "The mean accuracy was: 0.4523809552192688\n",
      "With a standard deviation of: 0.0336717494780809\n"
     ]
    }
   ],
   "source": [
    "\n",
    "# Import KerasClassifier from tensorflow.keras scikit learn wrappers\n",
    "from tensorflow.keras.wrappers.scikit_learn  import KerasClassifier\n",
    "from sklearn.model_selection import RandomizedSearchCV\n",
    "from sklearn.model_selection import KFold\n",
    "from sklearn.model_selection import cross_val_score\n",
    "\n",
    "# Creates a model given an activation and learning rate\n",
    "def create_model(learning_rate = 0.1, activation = 'relu', optomizer = 'Adam'):\n",
    "    # Create an Adam optimizer with the given learning rate\n",
    "    # opt = optomizer(lr = learning_rate)\n",
    "  \t# Create model  \n",
    "    model = Sequential() \n",
    "    model.add(Dense(10, input_dim=4, activation=activation)) \n",
    "    model.add(Dense(20, activation=activation)) \n",
    "    model.add(Dense(10, activation=activation)) \n",
    "    model.add(Dense(1, activation='sigmoid')) \n",
    "  \t\n",
    "  \t# Compile your model with your optimizer, loss, and metrics\n",
    "    model.compile(optimizer = optomizer, loss = 'binary_crossentropy' , metrics = ['accuracy'])\n",
    "    return model\n",
    "\n",
    "\n",
    "# Create a KerasClassifier\n",
    "model = KerasClassifier(build_fn = create_model)\n",
    "\n",
    "# Define the parameters to try out\n",
    "params = {'activation': ['relu', 'tanh','sigmoid'], 'batch_size': [32, 128, 256], \n",
    "          'epochs': [20,30,40,50, 100, 200], 'learning_rate': [0.1, 0.01, 0.001]}\n",
    "\n",
    "# Create a randomize search cv object passing in the parameters to try\n",
    "random_search = RandomizedSearchCV(model, param_distributions = params, cv = KFold(3))\n",
    "\n",
    "# Calculate the accuracy score for each fold\n",
    "kfolds = cross_val_score(model, x_test, y_test, cv = 3)\n",
    "\n",
    "# Print the mean accuracy\n",
    "print('The mean accuracy was:', kfolds.mean())\n",
    "\n",
    "# Print the accuracy standard deviation\n",
    "print('With a standard deviation of:', kfolds.std())"
   ]
  },
  {
   "cell_type": "code",
   "execution_count": null,
   "metadata": {
    "metadata": {}
   },
   "outputs": [
    {
     "name": "stdout",
     "output_type": "stream",
     "text": [
      "Epoch 1/20\n",
      "3/3 [==============================] - 1s 76ms/step - loss: 0.7051 - accuracy: 0.5000 - val_loss: 0.6908 - val_accuracy: 0.7500\n",
      "Epoch 2/20\n",
      "3/3 [==============================] - 0s 26ms/step - loss: 0.6953 - accuracy: 0.5625 - val_loss: 0.6827 - val_accuracy: 0.7500\n",
      "Epoch 3/20\n",
      "3/3 [==============================] - 0s 20ms/step - loss: 0.6856 - accuracy: 0.6000 - val_loss: 0.6740 - val_accuracy: 0.7500\n",
      "Epoch 4/20\n",
      "3/3 [==============================] - 0s 25ms/step - loss: 0.6762 - accuracy: 0.6375 - val_loss: 0.6644 - val_accuracy: 0.8500\n",
      "Epoch 5/20\n",
      "3/3 [==============================] - 0s 20ms/step - loss: 0.6658 - accuracy: 0.8000 - val_loss: 0.6546 - val_accuracy: 0.9500\n",
      "Epoch 6/20\n",
      "3/3 [==============================] - 0s 22ms/step - loss: 0.6540 - accuracy: 0.9250 - val_loss: 0.6445 - val_accuracy: 0.9500\n",
      "Epoch 7/20\n",
      "3/3 [==============================] - 0s 23ms/step - loss: 0.6417 - accuracy: 0.9375 - val_loss: 0.6338 - val_accuracy: 0.9500\n",
      "Epoch 8/20\n",
      "3/3 [==============================] - 0s 25ms/step - loss: 0.6288 - accuracy: 0.9375 - val_loss: 0.6226 - val_accuracy: 0.9500\n",
      "Epoch 9/20\n",
      "3/3 [==============================] - 0s 20ms/step - loss: 0.6153 - accuracy: 0.9375 - val_loss: 0.6109 - val_accuracy: 0.9500\n",
      "Epoch 10/20\n",
      "3/3 [==============================] - 0s 19ms/step - loss: 0.6008 - accuracy: 0.9500 - val_loss: 0.5992 - val_accuracy: 0.9500\n",
      "Epoch 11/20\n",
      "3/3 [==============================] - 0s 26ms/step - loss: 0.5860 - accuracy: 0.9750 - val_loss: 0.5867 - val_accuracy: 0.9500\n",
      "Epoch 12/20\n",
      "3/3 [==============================] - 0s 25ms/step - loss: 0.5705 - accuracy: 0.9875 - val_loss: 0.5735 - val_accuracy: 0.9500\n",
      "Epoch 13/20\n",
      "3/3 [==============================] - 0s 23ms/step - loss: 0.5548 - accuracy: 0.9875 - val_loss: 0.5590 - val_accuracy: 0.9500\n",
      "Epoch 14/20\n",
      "3/3 [==============================] - 0s 24ms/step - loss: 0.5381 - accuracy: 0.9875 - val_loss: 0.5437 - val_accuracy: 0.9500\n",
      "Epoch 15/20\n",
      "3/3 [==============================] - 0s 20ms/step - loss: 0.5211 - accuracy: 0.9875 - val_loss: 0.5273 - val_accuracy: 0.9500\n",
      "Epoch 16/20\n",
      "3/3 [==============================] - 0s 20ms/step - loss: 0.5026 - accuracy: 0.9875 - val_loss: 0.5099 - val_accuracy: 0.9500\n",
      "Epoch 17/20\n",
      "3/3 [==============================] - 0s 15ms/step - loss: 0.4843 - accuracy: 0.9875 - val_loss: 0.4922 - val_accuracy: 0.9500\n",
      "Epoch 18/20\n",
      "3/3 [==============================] - 0s 16ms/step - loss: 0.4647 - accuracy: 0.9875 - val_loss: 0.4736 - val_accuracy: 0.9500\n",
      "Epoch 19/20\n",
      "3/3 [==============================] - 0s 17ms/step - loss: 0.4447 - accuracy: 0.9875 - val_loss: 0.4542 - val_accuracy: 0.9500\n",
      "Epoch 20/20\n",
      "3/3 [==============================] - 0s 17ms/step - loss: 0.4243 - accuracy: 0.9875 - val_loss: 0.4344 - val_accuracy: 1.0000\n",
      "1/1 [==============================] - 0s 19ms/step - loss: 0.4344 - accuracy: 1.0000\n",
      "\n",
      "accuracy: 100.00%\n",
      "1/1 [==============================] - 0s 47ms/step\n",
      "[0, 1, 1, 1, 0, 0, 1, 1, 1, 1, 0, 0, 1, 1, 0, 1, 0, 1, 0, 1]\n",
      "Model: \"sequential_9\"\n",
      "_________________________________________________________________\n",
      " Layer (type)                Output Shape              Param #   \n",
      "=================================================================\n",
      " dense_36 (Dense)            (None, 10)                50        \n",
      "                                                                 \n",
      " dense_37 (Dense)            (None, 20)                220       \n",
      "                                                                 \n",
      " dense_38 (Dense)            (None, 10)                210       \n",
      "                                                                 \n",
      " dense_39 (Dense)            (None, 1)                 11        \n",
      "                                                                 \n",
      "=================================================================\n",
      "Total params: 491\n",
      "Trainable params: 491\n",
      "Non-trainable params: 0\n",
      "_________________________________________________________________\n"
     ]
    },
    {
     "data": {
      "image/png": "[encoded data removed]",
      "text/plain": [
       "<Figure size 640x480 with 1 Axes>"
      ]
     },
     "metadata": {},
     "output_type": "display_data"
    }
   ],
   "source": [
    "# create model \n",
    "model = Sequential() \n",
    "model.add(Dense(10, input_dim=4, activation='relu')) \n",
    "model.add(Dense(20, activation='relu')) \n",
    "model.add(Dense(10, activation='relu')) \n",
    "model.add(Dense(1, activation='sigmoid')) \n",
    "\n",
    "# Compile model \n",
    "model.compile(loss='binary_crossentropy', optimizer='adam', metrics=['accuracy']) \n",
    "\n",
    "# Train your model and save its history\n",
    "h_callback = model.fit(x_train, y_train, epochs = 20,\n",
    "               validation_data=(x_test, y_test))\n",
    "\n",
    "# Plot train vs test loss during training\n",
    "plt.plot(h_callback.history['val_loss'])\n",
    "\n",
    "# Plot train vs test accuracy during training\n",
    "plt.plot(h_callback.history['val_accuracy'])\n",
    "\n",
    "# eval model \n",
    "scores = model.evaluate(x_test, y_test) \n",
    "print(\"\\n%s: %.2f%%\" % (model.metrics_names[1], scores[1]*100))\n",
    "\n",
    "# calculate predictions \n",
    "predictions = model.predict(x_test) \n",
    "\n",
    "# round predictions \n",
    "rounded = [round(x[0]) for x in predictions] \n",
    "print(rounded) \n",
    "\n",
    "# Display a summary of your model\n",
    "model.summary()"
   ]
  },
  {
   "cell_type": "markdown",
   "metadata": {},
   "source": [
    "model using keras functional api"
   ]
  },
  {
   "cell_type": "code",
   "execution_count": null,
   "metadata": {
    "metadata": {}
   },
   "outputs": [
    {
     "name": "stdout",
     "output_type": "stream",
     "text": [
      "KerasTensor(type_spec=TensorSpec(shape=(None, 4), dtype=tf.float32, name='input_1'), name='input_1', description=\"created by layer 'input_1'\")\n",
      "Epoch 1/10\n",
      "8/8 [==============================] - 0s 5ms/step - loss: 0.5654 - accuracy: 0.8375\n",
      "Epoch 2/10\n",
      "8/8 [==============================] - 0s 4ms/step - loss: 0.3566 - accuracy: 1.0000\n",
      "Epoch 3/10\n",
      "8/8 [==============================] - 0s 4ms/step - loss: 0.2304 - accuracy: 1.0000\n",
      "Epoch 4/10\n",
      "8/8 [==============================] - 0s 5ms/step - loss: 0.1473 - accuracy: 1.0000\n",
      "Epoch 5/10\n",
      "8/8 [==============================] - 0s 5ms/step - loss: 0.0940 - accuracy: 1.0000\n",
      "Epoch 6/10\n",
      "8/8 [==============================] - 0s 6ms/step - loss: 0.0596 - accuracy: 1.0000\n",
      "Epoch 7/10\n",
      "8/8 [==============================] - 0s 5ms/step - loss: 0.0379 - accuracy: 1.0000\n",
      "Epoch 8/10\n",
      "8/8 [==============================] - 0s 5ms/step - loss: 0.0241 - accuracy: 1.0000\n",
      "Epoch 9/10\n",
      "8/8 [==============================] - 0s 6ms/step - loss: 0.0153 - accuracy: 1.0000\n",
      "Epoch 10/10\n",
      "8/8 [==============================] - 0s 5ms/step - loss: 0.0098 - accuracy: 1.0000\n"
     ]
    },
    {
     "data": {
      "text/plain": [
       "<keras.callbacks.History at 0x1bc20726eb0>"
      ]
     },
     "execution_count": 16,
     "metadata": {},
     "output_type": "execute_result"
    }
   ],
   "source": [
    "from tensorflow.keras.layers import Input, Dense \n",
    "from tensorflow.keras.models import Model \n",
    "\n",
    "# This returns a tensor \n",
    "inputs = Input(shape=(4,)) \n",
    "print(inputs)\n",
    "\n",
    "# a layer instance is callable on a tensor, and returns a tensor \n",
    "x = Dense(64, activation='relu')(inputs) \n",
    "x = Dense(64, activation='relu')(x) \n",
    "predictions = Dense(1, activation='sigmoid')(x) \n",
    "\n",
    "# This creates a model that includes \n",
    "# the Input layer and three Dense layers \n",
    "model = Model(inputs=inputs, outputs=predictions) \n",
    "model.compile(optimizer='rmsprop', loss='binary_crossentropy', metrics=['accuracy']) \n",
    "model.fit(x_train, y_train,epochs=10, batch_size=10)  # starts training "
   ]
  }
 ],
 "metadata": {
  "kernelspec": {
   "display_name": "gpu_env",
   "language": "python",
   "name": "python3"
  },
  "language_info": {
   "codemirror_mode": {
    "name": "ipython",
    "version": 3
   },
   "file_extension": ".py",
   "mimetype": "text/x-python",
   "name": "python",
   "nbconvert_exporter": "python",
   "pygments_lexer": "ipython3",
   "version": "3.8.19"
  }
 },
 "nbformat": 4,
 "nbformat_minor": 2
}
